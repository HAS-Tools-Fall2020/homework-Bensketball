{
 "cells": [
  {
   "cell_type": "code",
   "execution_count": 1,
   "metadata": {},
   "outputs": [],
   "source": [
    "# Import the modules we will used in this notebook\n",
    "import os\n",
    "import math\n",
    "import numpy as np\n",
    "import pandas as pd\n",
    "import matplotlib.pyplot as plt"
   ]
  },
  {
   "cell_type": "code",
   "execution_count": 2,
   "metadata": {},
   "outputs": [],
   "source": [
    "# Building a function for our Linear Regression Model 1-time lag\n",
    "def mono_reg_mod(test_weeks):\n",
    "    \"\"\"Linear Regression Model data being offset only once.\n",
    "    test weeks = natural log streamflow laged by 1 week (x values)\n",
    "    test weeks = natural log streamflow (y values)\n",
    "    \"\"\"\n",
    "    reg_model = LinearRegression()\n",
    "    x_val_model1 = test_weeks['log_flow_tm1'].values.reshape(-1, 1)  # Testing values\n",
    "    y_val_model1 = test_weeks['log_flow'].values  # Testing values\n",
    "    reg_model.fit(x_val_model1, y_val_model1)  # Fit linear model\n",
    "    coeff_det1 = np.round(reg_model.score(x_val_model1, y_val_model1), 7)  # r^2\n",
    "    b = np.round(reg_model.intercept_, 7)  # Intercept\n",
    "    m = np.round(reg_model.coef_, 7)  # Slope\n",
    "    print('coefficient of determination:', np.round(coeff_det1, 7))\n",
    "    # Intercept and the slope (Final equation) y= mx + b\n",
    "    print('Final equation is y1 = :', m[:1], 'x + ', b)\n",
    "    return(b,m,reg_model,coeff_det1)\n",
    "\n",
    "# Building a function for our Linear Regression Model 2-time lags\n",
    "def poly_reg_mod(test_weeks):\n",
    "    \"\"\"Linear Regression Model with data being offset on two separate occasions.\n",
    "    test weeks = natural log of streamflow laged by 1 & 2 weeks (x values)\n",
    "    test weeks = natural log of streamflow (y values)\n",
    "    \"\"\"\n",
    "    poly_model = LinearRegression()\n",
    "    x_val_model2 = test_weeks[['log_flow_tm1', 'log_flow_tm2']]  # Testing values\n",
    "    y_val_model2 = test_weeks['log_flow']  # Testing values\n",
    "    poly_model.fit(x_val_model2, y_val_model2)  # Fit linear model\n",
    "    coeff_det2 = np.round(poly_model.score(x_val_model2, y_val_model2), 7)  # r^2\n",
    "    c = np.round(poly_model.intercept_, 7)  # Intercept\n",
    "    a = np.round(poly_model.coef_, 7)  # Slope(s)\n",
    "    print('coefficient of determination:', np.round(coeff_det2, 7))\n",
    "    # Intercept and the slope (Final equation) y= a1*x1 + a2*x2 + c\n",
    "    print('Final equation is y2 = :', a[:1], 'x1 + ', a[1:2], 'x2 + ', c)\n",
    "    return(c,a,poly_model,coeff_det2)"
   ]
  },
  {
   "cell_type": "code",
   "execution_count": 3,
   "metadata": {},
   "outputs": [],
   "source": [
    "# Building a function to produce our two week flow predictions\n",
    "# using linaral model1 with only one data offsets\n",
    "def flow_predic_mono(b, m, num_of_weeks, week_b4, forecast_weeks):\n",
    "    \"\"\"This function produces predicted flow values using coefficients provided\n",
    "    by an Liner Autoregressive Model with only one data offset.\n",
    "    'b' is the y-intersept and 'm' is the slope.\n",
    "    'num_of_weeks' is how many weeks you would like to loop the model for.\n",
    "    'week_b4' is the natural log flow of a known flow and\n",
    "    'forecast_weeks' is a list of dates that you are predicting for.\n",
    "    \"\"\"\n",
    "    week_b4_i = week_b4\n",
    "    pred_i = np.zeros((num_of_weeks, 1))\n",
    "    for i in range(1, num_of_weeks + 1):\n",
    "            log_flow_pred_i = b + m[:1] * week_b4_i\n",
    "            flow_pred_i = math.exp(log_flow_pred_i)\n",
    "            pred_i[i-1] = flow_pred_i\n",
    "            week_b4_i = log_flow_pred_i\n",
    "    flow_predictions_lin = pd.DataFrame(pred_i, index = forecast_weeks,\n",
    "                                        columns=[\"Predicted_Flows_Mono:\"])\n",
    "    return flow_predictions_mono\n",
    "\n",
    "# Building a function to produce our two week flow predictions\n",
    "# using linaral model2 with multiple data offsets\n",
    "def flow_predic_poly(c, a, num_of_weeks, week_b4, forecast_weeks):\n",
    "    \"\"\"This function produces predicted flow values using coefficients provided\n",
    "    by an Liner Autoregressive Model with two different data offsets.\n",
    "    'c' is the y-intersept and 'a' is a list of two slopes provided by the model.\n",
    "    'num_of_weeks' is how many weeks you would like to loop the model for.\n",
    "    'week_b4' is the natural log flow of a known flow and\n",
    "    'forecast_weeks' is a list of dates that you are predicting for.\n",
    "    \"\"\"\n",
    "    week_b4_i = week_b4\n",
    "    pred_i = np.zeros((num_of_weeks, 1))\n",
    "    for i in range(1, num_of_weeks + 1):\n",
    "            log_flow_pred_i = c + a[1] * week_b4_i + a[0] * (week_b4_i)\n",
    "            flow_pred_i = math.exp(log_flow_pred_i)\n",
    "            pred_i[i-1] = flow_pred_i\n",
    "            week_b4_i = log_flow_pred_i\n",
    "    flow_predictions_poly = pd.DataFrame(pred_i, index = forecast_weeks,\n",
    "                                         columns=[\"Predicted_Flows_Poly:\"])\n",
    "    return flow_predictions_poly"
   ]
  },
  {
   "cell_type": "code",
   "execution_count": null,
   "metadata": {},
   "outputs": [],
   "source": []
  }
 ],
 "metadata": {
  "kernelspec": {
   "display_name": "Python 3.8.5 64-bit ('hastools': conda)",
   "language": "python",
   "name": "python38564bithastoolscondaaebd384e06374ac79bee6ac01a150274"
  },
  "language_info": {
   "codemirror_mode": {
    "name": "ipython",
    "version": 3
   },
   "file_extension": ".py",
   "mimetype": "text/x-python",
   "name": "python",
   "nbconvert_exporter": "python",
   "pygments_lexer": "ipython3",
   "version": "3.8.5"
  }
 },
 "nbformat": 4,
 "nbformat_minor": 4
}
